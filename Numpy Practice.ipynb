{
 "cells": [
  {
   "cell_type": "markdown",
   "id": "0b98f042",
   "metadata": {},
   "source": [
    "# array() function"
   ]
  },
  {
   "cell_type": "code",
   "execution_count": 1,
   "id": "2944ca58",
   "metadata": {},
   "outputs": [
    {
     "name": "stdout",
     "output_type": "stream",
     "text": [
      "[[10 20 30]\n",
      " [40 50 60]]\n"
     ]
    }
   ],
   "source": [
    "import numpy as np\n",
    "l=[[10,20,30],[40,50,60]]\n",
    "a=np.array(l)\n",
    "print(a)"
   ]
  },
  {
   "cell_type": "code",
   "execution_count": 4,
   "id": "5ea38d07",
   "metadata": {},
   "outputs": [
    {
     "name": "stdout",
     "output_type": "stream",
     "text": [
      "[10 20 30 40 50]\n"
     ]
    }
   ],
   "source": [
    "t=(10,20,30,40,50)\n",
    "a=np.array(t)\n",
    "print(a)"
   ]
  },
  {
   "cell_type": "code",
   "execution_count": 5,
   "id": "dcef8998",
   "metadata": {},
   "outputs": [
    {
     "name": "stdout",
     "output_type": "stream",
     "text": [
      "['disha' 'ram' 'shyam']\n"
     ]
    }
   ],
   "source": [
    "t=('disha','ram','shyam')\n",
    "a=np.array(t)\n",
    "print(a)"
   ]
  },
  {
   "cell_type": "code",
   "execution_count": 6,
   "id": "036e205b",
   "metadata": {},
   "outputs": [
    {
     "name": "stdout",
     "output_type": "stream",
     "text": [
      "['disha' 'ram' 'shyam' '30' '40' '50']\n"
     ]
    }
   ],
   "source": [
    "t=('disha','ram','shyam',30,40,50)\n",
    "a=np.array(t)\n",
    "print(a)"
   ]
  },
  {
   "cell_type": "markdown",
   "id": "f19503cc",
   "metadata": {},
   "source": [
    "# upcasting"
   ]
  },
  {
   "cell_type": "code",
   "execution_count": 7,
   "id": "5570aee7",
   "metadata": {},
   "outputs": [
    {
     "name": "stdout",
     "output_type": "stream",
     "text": [
      "int32\n"
     ]
    }
   ],
   "source": [
    "a=np.array([90,999,888])\n",
    "print(a.dtype)"
   ]
  },
  {
   "cell_type": "code",
   "execution_count": 8,
   "id": "957765cf",
   "metadata": {},
   "outputs": [
    {
     "name": "stdout",
     "output_type": "stream",
     "text": [
      "[ 90 999 888]\n",
      "<class 'numpy.ndarray'>\n",
      "int32\n"
     ]
    }
   ],
   "source": [
    "a=np.array([90,999,888])\n",
    "print(a)\n",
    "print(type(a))\n",
    "print(a.dtype)"
   ]
  },
  {
   "cell_type": "code",
   "execution_count": 9,
   "id": "2b728696",
   "metadata": {},
   "outputs": [
    {
     "name": "stdout",
     "output_type": "stream",
     "text": [
      "[ 90.   999.   888.    65.76]\n",
      "float64\n"
     ]
    }
   ],
   "source": [
    "a=np.array([90,999,888,65.76])\n",
    "print(a)\n",
    "print(a.dtype)"
   ]
  },
  {
   "cell_type": "code",
   "execution_count": 10,
   "id": "1ec05035",
   "metadata": {},
   "outputs": [
    {
     "name": "stdout",
     "output_type": "stream",
     "text": [
      "[ 90. 999. 888.]\n"
     ]
    }
   ],
   "source": [
    "a=np.array([90,999,888],dtype=float)\n",
    "print(a)"
   ]
  },
  {
   "cell_type": "code",
   "execution_count": 11,
   "id": "bcfa81f6",
   "metadata": {},
   "outputs": [
    {
     "name": "stdout",
     "output_type": "stream",
     "text": [
      "[ 90.+0.j 999.+0.j 888.+0.j]\n"
     ]
    }
   ],
   "source": [
    "a=np.array([90,999,888],dtype=complex)\n",
    "print(a)"
   ]
  },
  {
   "cell_type": "code",
   "execution_count": 13,
   "id": "b3b2ecef",
   "metadata": {},
   "outputs": [
    {
     "name": "stdout",
     "output_type": "stream",
     "text": [
      "[ True  True  True False]\n"
     ]
    }
   ],
   "source": [
    "a=np.array([90,999,888,0],dtype=bool)\n",
    "print(a)"
   ]
  },
  {
   "cell_type": "code",
   "execution_count": 14,
   "id": "9736aedd",
   "metadata": {},
   "outputs": [
    {
     "name": "stdout",
     "output_type": "stream",
     "text": [
      "2\n"
     ]
    }
   ],
   "source": [
    "a=np.array(True+True,dtype=str)\n",
    "print(a)"
   ]
  },
  {
   "cell_type": "code",
   "execution_count": 15,
   "id": "8e968f23",
   "metadata": {},
   "outputs": [
    {
     "name": "stdout",
     "output_type": "stream",
     "text": [
      "2Hello\n"
     ]
    }
   ],
   "source": [
    "a=np.array(str(True+True)+'Hello')\n",
    "print(a)"
   ]
  },
  {
   "cell_type": "code",
   "execution_count": 16,
   "id": "7000f552",
   "metadata": {},
   "outputs": [
    {
     "name": "stdout",
     "output_type": "stream",
     "text": [
      "[ 90 999 888  65]\n",
      "int32\n"
     ]
    }
   ],
   "source": [
    "a=np.array([90,999,888,65.76],dtype=int)\n",
    "print(a)\n",
    "print(a.dtype)"
   ]
  },
  {
   "cell_type": "code",
   "execution_count": 17,
   "id": "217d290f",
   "metadata": {},
   "outputs": [
    {
     "name": "stdout",
     "output_type": "stream",
     "text": [
      "['90' '999' '888' '65.76' 'Hello' 'True' 'False' '4.5' '67']\n",
      "<U32\n"
     ]
    }
   ],
   "source": [
    "a=np.array([90,999,888,65.76,'Hello',True,False,4.5,67])\n",
    "print(a)\n",
    "print(a.dtype)"
   ]
  },
  {
   "cell_type": "code",
   "execution_count": 18,
   "id": "a93e108e",
   "metadata": {},
   "outputs": [
    {
     "name": "stdout",
     "output_type": "stream",
     "text": [
      "[90 999 888 65.76 'Hello' True False 4.5 67]\n",
      "object\n"
     ]
    }
   ],
   "source": [
    "a=np.array([90,999,888,65.76,'Hello',True,False,4.5,67],dtype=object)\n",
    "print(a)\n",
    "print(a.dtype)"
   ]
  },
  {
   "cell_type": "markdown",
   "id": "12a9da1f",
   "metadata": {},
   "source": [
    "# arange() function"
   ]
  },
  {
   "cell_type": "code",
   "execution_count": 19,
   "id": "49a0bf2c",
   "metadata": {},
   "outputs": [
    {
     "name": "stdout",
     "output_type": "stream",
     "text": [
      "[10 11 12 13 14 15 16 17 18 19 20 21 22 23 24 25 26 27 28 29 30 31 32 33\n",
      " 34 35 36 37 38 39 40 41 42 43 44 45 46 47 48 49]\n",
      "int32\n"
     ]
    }
   ],
   "source": [
    "a=np.arange(10,50,1)\n",
    "print(a)\n",
    "print(a.dtype)"
   ]
  },
  {
   "cell_type": "code",
   "execution_count": 20,
   "id": "8ee813fb",
   "metadata": {},
   "outputs": [
    {
     "name": "stdout",
     "output_type": "stream",
     "text": [
      "[10 11 12 13 14 15 16 17 18 19 20 21 22 23 24 25 26 27 28 29 30 31 32 33\n",
      " 34 35 36 37 38 39 40 41 42 43 44 45 46 47 48 49]\n",
      "int32\n"
     ]
    }
   ],
   "source": [
    "a=np.arange(10,50)\n",
    "print(a)\n",
    "print(a.dtype)"
   ]
  },
  {
   "cell_type": "code",
   "execution_count": 24,
   "id": "6b01cae1",
   "metadata": {},
   "outputs": [
    {
     "name": "stdout",
     "output_type": "stream",
     "text": [
      "[]\n",
      "int32\n"
     ]
    }
   ],
   "source": [
    "a=np.arange(0,)\n",
    "print(a)\n",
    "print(a.dtype)"
   ]
  },
  {
   "cell_type": "code",
   "execution_count": 25,
   "id": "4860e3b0",
   "metadata": {},
   "outputs": [
    {
     "name": "stdout",
     "output_type": "stream",
     "text": [
      "[0]\n",
      "int32\n"
     ]
    }
   ],
   "source": [
    "a=np.arange(0,1)\n",
    "print(a)\n",
    "print(a.dtype)"
   ]
  },
  {
   "cell_type": "code",
   "execution_count": 26,
   "id": "bd28aeb0",
   "metadata": {},
   "outputs": [
    {
     "name": "stdout",
     "output_type": "stream",
     "text": [
      "[ 0  2  4  6  8 10 12 14 16 18]\n",
      "int32\n"
     ]
    }
   ],
   "source": [
    "a=np.arange(0,20,2)\n",
    "print(a)\n",
    "print(a.dtype)"
   ]
  },
  {
   "cell_type": "markdown",
   "id": "12249f39",
   "metadata": {},
   "source": [
    "# linspace() function"
   ]
  },
  {
   "cell_type": "code",
   "execution_count": 28,
   "id": "20896c86",
   "metadata": {},
   "outputs": [
    {
     "name": "stdout",
     "output_type": "stream",
     "text": [
      "[  0.           2.04081633   4.08163265   6.12244898   8.16326531\n",
      "  10.20408163  12.24489796  14.28571429  16.32653061  18.36734694\n",
      "  20.40816327  22.44897959  24.48979592  26.53061224  28.57142857\n",
      "  30.6122449   32.65306122  34.69387755  36.73469388  38.7755102\n",
      "  40.81632653  42.85714286  44.89795918  46.93877551  48.97959184\n",
      "  51.02040816  53.06122449  55.10204082  57.14285714  59.18367347\n",
      "  61.2244898   63.26530612  65.30612245  67.34693878  69.3877551\n",
      "  71.42857143  73.46938776  75.51020408  77.55102041  79.59183673\n",
      "  81.63265306  83.67346939  85.71428571  87.75510204  89.79591837\n",
      "  91.83673469  93.87755102  95.91836735  97.95918367 100.        ]\n"
     ]
    }
   ],
   "source": [
    "a=np.linspace(0,100)\n",
    "print(a)"
   ]
  },
  {
   "cell_type": "code",
   "execution_count": 29,
   "id": "510c9540",
   "metadata": {},
   "outputs": [
    {
     "name": "stdout",
     "output_type": "stream",
     "text": [
      "[  0.  25.  50.  75. 100.]\n"
     ]
    }
   ],
   "source": [
    "a=np.linspace(0,100,num=5)\n",
    "print(a)"
   ]
  },
  {
   "cell_type": "code",
   "execution_count": 30,
   "id": "8402f5d2",
   "metadata": {},
   "outputs": [
    {
     "name": "stdout",
     "output_type": "stream",
     "text": [
      "[ 0. 20.]\n",
      "[ 0  2  4  6  8 10 12 14 16 18]\n"
     ]
    }
   ],
   "source": [
    "a=np.linspace(0,20,2)\n",
    "b=np.arange(0,20,2)\n",
    "print(a)\n",
    "print(b)"
   ]
  },
  {
   "cell_type": "code",
   "execution_count": 41,
   "id": "3e05f7ba",
   "metadata": {},
   "outputs": [
    {
     "name": "stdout",
     "output_type": "stream",
     "text": [
      "[ 0 20 40 60 80]\n"
     ]
    }
   ],
   "source": [
    "a=np.linspace(0,100,num=5,endpoint=False,retstep=False,dtype=int)\n",
    "print(a)"
   ]
  },
  {
   "cell_type": "code",
   "execution_count": 42,
   "id": "0338e9c2",
   "metadata": {},
   "outputs": [
    {
     "name": "stdout",
     "output_type": "stream",
     "text": [
      "(array([  0,  25,  50,  75, 100]), 25.0)\n"
     ]
    }
   ],
   "source": [
    "a=np.linspace(0,100,num=5,endpoint=True,retstep=True,dtype=int)\n",
    "print(a)"
   ]
  },
  {
   "cell_type": "code",
   "execution_count": 44,
   "id": "a0cf9005",
   "metadata": {},
   "outputs": [
    {
     "name": "stdout",
     "output_type": "stream",
     "text": [
      "Help on function linspace in module numpy:\n",
      "\n",
      "linspace(start, stop, num=50, endpoint=True, retstep=False, dtype=None, axis=0)\n",
      "    Return evenly spaced numbers over a specified interval.\n",
      "    \n",
      "    Returns `num` evenly spaced samples, calculated over the\n",
      "    interval [`start`, `stop`].\n",
      "    \n",
      "    The endpoint of the interval can optionally be excluded.\n",
      "    \n",
      "    .. versionchanged:: 1.16.0\n",
      "        Non-scalar `start` and `stop` are now supported.\n",
      "    \n",
      "    .. versionchanged:: 1.20.0\n",
      "        Values are rounded towards ``-inf`` instead of ``0`` when an\n",
      "        integer ``dtype`` is specified. The old behavior can\n",
      "        still be obtained with ``np.linspace(start, stop, num).astype(int)``\n",
      "    \n",
      "    Parameters\n",
      "    ----------\n",
      "    start : array_like\n",
      "        The starting value of the sequence.\n",
      "    stop : array_like\n",
      "        The end value of the sequence, unless `endpoint` is set to False.\n",
      "        In that case, the sequence consists of all but the last of ``num + 1``\n",
      "        evenly spaced samples, so that `stop` is excluded.  Note that the step\n",
      "        size changes when `endpoint` is False.\n",
      "    num : int, optional\n",
      "        Number of samples to generate. Default is 50. Must be non-negative.\n",
      "    endpoint : bool, optional\n",
      "        If True, `stop` is the last sample. Otherwise, it is not included.\n",
      "        Default is True.\n",
      "    retstep : bool, optional\n",
      "        If True, return (`samples`, `step`), where `step` is the spacing\n",
      "        between samples.\n",
      "    dtype : dtype, optional\n",
      "        The type of the output array.  If `dtype` is not given, the data type\n",
      "        is inferred from `start` and `stop`. The inferred dtype will never be\n",
      "        an integer; `float` is chosen even if the arguments would produce an\n",
      "        array of integers.\n",
      "    \n",
      "        .. versionadded:: 1.9.0\n",
      "    \n",
      "    axis : int, optional\n",
      "        The axis in the result to store the samples.  Relevant only if start\n",
      "        or stop are array-like.  By default (0), the samples will be along a\n",
      "        new axis inserted at the beginning. Use -1 to get an axis at the end.\n",
      "    \n",
      "        .. versionadded:: 1.16.0\n",
      "    \n",
      "    Returns\n",
      "    -------\n",
      "    samples : ndarray\n",
      "        There are `num` equally spaced samples in the closed interval\n",
      "        ``[start, stop]`` or the half-open interval ``[start, stop)``\n",
      "        (depending on whether `endpoint` is True or False).\n",
      "    step : float, optional\n",
      "        Only returned if `retstep` is True\n",
      "    \n",
      "        Size of spacing between samples.\n",
      "    \n",
      "    \n",
      "    See Also\n",
      "    --------\n",
      "    arange : Similar to `linspace`, but uses a step size (instead of the\n",
      "             number of samples).\n",
      "    geomspace : Similar to `linspace`, but with numbers spaced evenly on a log\n",
      "                scale (a geometric progression).\n",
      "    logspace : Similar to `geomspace`, but with the end points specified as\n",
      "               logarithms.\n",
      "    \n",
      "    Examples\n",
      "    --------\n",
      "    >>> np.linspace(2.0, 3.0, num=5)\n",
      "    array([2.  , 2.25, 2.5 , 2.75, 3.  ])\n",
      "    >>> np.linspace(2.0, 3.0, num=5, endpoint=False)\n",
      "    array([2. ,  2.2,  2.4,  2.6,  2.8])\n",
      "    >>> np.linspace(2.0, 3.0, num=5, retstep=True)\n",
      "    (array([2.  ,  2.25,  2.5 ,  2.75,  3.  ]), 0.25)\n",
      "    \n",
      "    Graphical illustration:\n",
      "    \n",
      "    >>> import matplotlib.pyplot as plt\n",
      "    >>> N = 8\n",
      "    >>> y = np.zeros(N)\n",
      "    >>> x1 = np.linspace(0, 10, N, endpoint=True)\n",
      "    >>> x2 = np.linspace(0, 10, N, endpoint=False)\n",
      "    >>> plt.plot(x1, y, 'o')\n",
      "    [<matplotlib.lines.Line2D object at 0x...>]\n",
      "    >>> plt.plot(x2, y + 0.5, 'o')\n",
      "    [<matplotlib.lines.Line2D object at 0x...>]\n",
      "    >>> plt.ylim([-0.5, 1])\n",
      "    (-0.5, 1)\n",
      "    >>> plt.show()\n",
      "\n",
      "None\n"
     ]
    }
   ],
   "source": [
    "print(help(np.linspace))"
   ]
  },
  {
   "cell_type": "markdown",
   "id": "a899468c",
   "metadata": {},
   "source": [
    "# zeros() function"
   ]
  },
  {
   "cell_type": "code",
   "execution_count": 48,
   "id": "909b727e",
   "metadata": {},
   "outputs": [
    {
     "name": "stdout",
     "output_type": "stream",
     "text": [
      "[0. 0. 0. 0. 0. 0. 0. 0. 0. 0.]\n"
     ]
    }
   ],
   "source": [
    "a=np.zeros(10)\n",
    "print(a)"
   ]
  },
  {
   "cell_type": "code",
   "execution_count": 50,
   "id": "3e796b4e",
   "metadata": {},
   "outputs": [
    {
     "name": "stdout",
     "output_type": "stream",
     "text": [
      "[[0 0 0 0 0 0 0 0 0 0]\n",
      " [0 0 0 0 0 0 0 0 0 0]\n",
      " [0 0 0 0 0 0 0 0 0 0]\n",
      " [0 0 0 0 0 0 0 0 0 0]\n",
      " [0 0 0 0 0 0 0 0 0 0]\n",
      " [0 0 0 0 0 0 0 0 0 0]\n",
      " [0 0 0 0 0 0 0 0 0 0]\n",
      " [0 0 0 0 0 0 0 0 0 0]\n",
      " [0 0 0 0 0 0 0 0 0 0]\n",
      " [0 0 0 0 0 0 0 0 0 0]]\n"
     ]
    }
   ],
   "source": [
    "a=np.zeros((10,10),dtype=int)\n",
    "print(a)"
   ]
  },
  {
   "cell_type": "code",
   "execution_count": 52,
   "id": "7bb470dc",
   "metadata": {},
   "outputs": [
    {
     "name": "stdout",
     "output_type": "stream",
     "text": [
      "[[0 0 0 0 0 0 0 0 0 0 0 0 0 0 0 0 0 0 0 0]\n",
      " [0 0 0 0 0 0 0 0 0 0 0 0 0 0 0 0 0 0 0 0]\n",
      " [0 0 0 0 0 0 0 0 0 0 0 0 0 0 0 0 0 0 0 0]\n",
      " [0 0 0 0 0 0 0 0 0 0 0 0 0 0 0 0 0 0 0 0]\n",
      " [0 0 0 0 0 0 0 0 0 0 0 0 0 0 0 0 0 0 0 0]]\n"
     ]
    }
   ],
   "source": [
    "a=np.zeros((5,20),dtype=int)\n",
    "print(a)"
   ]
  },
  {
   "cell_type": "markdown",
   "id": "639d71ef",
   "metadata": {},
   "source": [
    "# multidimentional array"
   ]
  },
  {
   "cell_type": "code",
   "execution_count": 57,
   "id": "28bf72a6",
   "metadata": {},
   "outputs": [
    {
     "name": "stdout",
     "output_type": "stream",
     "text": [
      "[[[0. 0. 0.]\n",
      "  [0. 0. 0.]]]\n"
     ]
    }
   ],
   "source": [
    "a=np.zeros((1,2,3))\n",
    "print(a)"
   ]
  },
  {
   "cell_type": "markdown",
   "id": "80ee587e",
   "metadata": {},
   "source": [
    "# ones() function"
   ]
  },
  {
   "cell_type": "code",
   "execution_count": 61,
   "id": "40a3772e",
   "metadata": {},
   "outputs": [
    {
     "name": "stdout",
     "output_type": "stream",
     "text": [
      "[[[1. 1. 1. 1. 1. 1. 1. 1.]\n",
      "  [1. 1. 1. 1. 1. 1. 1. 1.]\n",
      "  [1. 1. 1. 1. 1. 1. 1. 1.]\n",
      "  [1. 1. 1. 1. 1. 1. 1. 1.]]\n",
      "\n",
      " [[1. 1. 1. 1. 1. 1. 1. 1.]\n",
      "  [1. 1. 1. 1. 1. 1. 1. 1.]\n",
      "  [1. 1. 1. 1. 1. 1. 1. 1.]\n",
      "  [1. 1. 1. 1. 1. 1. 1. 1.]]]\n"
     ]
    }
   ],
   "source": [
    "a=np.ones((2,4,8))\n",
    "print(a)"
   ]
  },
  {
   "cell_type": "code",
   "execution_count": 62,
   "id": "b1a611e9",
   "metadata": {},
   "outputs": [
    {
     "data": {
      "text/plain": [
       "array([[[1., 1., 1., 1., 1., 1., 1., 1.],\n",
       "        [1., 1., 1., 1., 1., 1., 1., 1.],\n",
       "        [1., 1., 1., 1., 1., 1., 1., 1.],\n",
       "        [1., 1., 1., 1., 1., 1., 1., 1.]],\n",
       "\n",
       "       [[1., 1., 1., 1., 1., 1., 1., 1.],\n",
       "        [1., 1., 1., 1., 1., 1., 1., 1.],\n",
       "        [1., 1., 1., 1., 1., 1., 1., 1.],\n",
       "        [1., 1., 1., 1., 1., 1., 1., 1.]]])"
      ]
     },
     "execution_count": 62,
     "metadata": {},
     "output_type": "execute_result"
    }
   ],
   "source": [
    "a=(2,4,8)\n",
    "np.ones(a)"
   ]
  },
  {
   "cell_type": "markdown",
   "id": "248608b9",
   "metadata": {},
   "source": [
    "# full() function"
   ]
  },
  {
   "cell_type": "code",
   "execution_count": 75,
   "id": "9a953127",
   "metadata": {},
   "outputs": [
    {
     "name": "stdout",
     "output_type": "stream",
     "text": [
      "[inf inf inf inf inf inf inf inf inf inf]\n"
     ]
    }
   ],
   "source": [
    "a=np.full((10),np.inf)\n",
    "print(a)"
   ]
  },
  {
   "cell_type": "code",
   "execution_count": 65,
   "id": "245aab52",
   "metadata": {},
   "outputs": [
    {
     "name": "stdout",
     "output_type": "stream",
     "text": [
      "[[[500 500 500 500 500 500]\n",
      "  [500 500 500 500 500 500]\n",
      "  [500 500 500 500 500 500]\n",
      "  [500 500 500 500 500 500]]\n",
      "\n",
      " [[500 500 500 500 500 500]\n",
      "  [500 500 500 500 500 500]\n",
      "  [500 500 500 500 500 500]\n",
      "  [500 500 500 500 500 500]]]\n"
     ]
    }
   ],
   "source": [
    "a=np.full((2,4,6),500)\n",
    "print(a)"
   ]
  },
  {
   "cell_type": "markdown",
   "id": "4549b324",
   "metadata": {},
   "source": [
    "# eye() function"
   ]
  },
  {
   "cell_type": "code",
   "execution_count": 67,
   "id": "4ee6c51a",
   "metadata": {},
   "outputs": [
    {
     "name": "stdout",
     "output_type": "stream",
     "text": [
      "[[1. 0. 0.]\n",
      " [0. 1. 0.]\n",
      " [0. 0. 1.]]\n"
     ]
    }
   ],
   "source": [
    "a=np.eye(3)\n",
    "print(a)"
   ]
  },
  {
   "cell_type": "code",
   "execution_count": 68,
   "id": "45769de3",
   "metadata": {},
   "outputs": [
    {
     "name": "stdout",
     "output_type": "stream",
     "text": [
      "[[1 0 0]\n",
      " [0 1 0]\n",
      " [0 0 1]]\n"
     ]
    }
   ],
   "source": [
    "a=np.eye(3,dtype=int)\n",
    "print(a)"
   ]
  },
  {
   "cell_type": "code",
   "execution_count": 69,
   "id": "fffe0336",
   "metadata": {},
   "outputs": [
    {
     "name": "stdout",
     "output_type": "stream",
     "text": [
      "[[1. 0. 0. 0. 0.]\n",
      " [0. 1. 0. 0. 0.]\n",
      " [0. 0. 1. 0. 0.]\n",
      " [0. 0. 0. 1. 0.]]\n"
     ]
    }
   ],
   "source": [
    "a=np.eye(4,5)\n",
    "print(a)"
   ]
  },
  {
   "cell_type": "code",
   "execution_count": 70,
   "id": "3e5f6027",
   "metadata": {},
   "outputs": [
    {
     "name": "stdout",
     "output_type": "stream",
     "text": [
      "[[0. 0. 0. 0.]\n",
      " [1. 0. 0. 0.]\n",
      " [0. 1. 0. 0.]\n",
      " [0. 0. 1. 0.]]\n"
     ]
    }
   ],
   "source": [
    "a=np.eye(4,4,-1)\n",
    "print(a)"
   ]
  },
  {
   "cell_type": "code",
   "execution_count": 81,
   "id": "3ebaf28f",
   "metadata": {},
   "outputs": [
    {
     "name": "stdout",
     "output_type": "stream",
     "text": [
      "[[0. 0. 1. 0.]\n",
      " [0. 0. 0. 1.]\n",
      " [0. 0. 0. 0.]\n",
      " [0. 0. 0. 0.]]\n"
     ]
    }
   ],
   "source": [
    "a=np.eye(4,4,2)\n",
    "print(a)"
   ]
  },
  {
   "cell_type": "code",
   "execution_count": 77,
   "id": "901ea4bb",
   "metadata": {},
   "outputs": [
    {
     "name": "stdout",
     "output_type": "stream",
     "text": [
      "[[0. 0. 0. 0.]\n",
      " [0. 0. 0. 0.]\n",
      " [0. 0. 0. 0.]\n",
      " [0. 0. 0. 0.]]\n"
     ]
    }
   ],
   "source": [
    "a=np.eye(4,4,-6)\n",
    "print(a)"
   ]
  },
  {
   "cell_type": "markdown",
   "id": "b55bfe06",
   "metadata": {},
   "source": [
    "# identity() function"
   ]
  },
  {
   "cell_type": "code",
   "execution_count": 78,
   "id": "143a9594",
   "metadata": {},
   "outputs": [
    {
     "name": "stdout",
     "output_type": "stream",
     "text": [
      "[[1. 0. 0. 0. 0.]\n",
      " [0. 1. 0. 0. 0.]\n",
      " [0. 0. 1. 0. 0.]\n",
      " [0. 0. 0. 1. 0.]\n",
      " [0. 0. 0. 0. 1.]]\n"
     ]
    }
   ],
   "source": [
    "a=np.identity(5)\n",
    "print(a)"
   ]
  },
  {
   "cell_type": "code",
   "execution_count": 84,
   "id": "2b940c90",
   "metadata": {},
   "outputs": [
    {
     "name": "stdout",
     "output_type": "stream",
     "text": [
      "[[1 0]\n",
      " [0 1]]\n"
     ]
    }
   ],
   "source": [
    "a=np.identity(2,dtype=int)\n",
    "print(a)"
   ]
  },
  {
   "cell_type": "markdown",
   "id": "06cf4b16",
   "metadata": {},
   "source": [
    "# empty() function"
   ]
  },
  {
   "cell_type": "code",
   "execution_count": 95,
   "id": "03067195",
   "metadata": {},
   "outputs": [
    {
     "name": "stdout",
     "output_type": "stream",
     "text": [
      "[[         0 1072693248          0]\n",
      " [1072693248          0 1072693248]]\n"
     ]
    }
   ],
   "source": [
    "a=np.empty([2,3],dtype=int)\n",
    "print(a)"
   ]
  },
  {
   "cell_type": "code",
   "execution_count": 90,
   "id": "601716b2",
   "metadata": {
    "scrolled": true
   },
   "outputs": [
    {
     "name": "stdout",
     "output_type": "stream",
     "text": [
      "[[1. 1. 1.]\n",
      " [1. 1. 1.]]\n"
     ]
    }
   ],
   "source": [
    "a=np.empty((2,3))\n",
    "print(a)"
   ]
  },
  {
   "cell_type": "code",
   "execution_count": 93,
   "id": "33e39240",
   "metadata": {},
   "outputs": [
    {
     "name": "stdout",
     "output_type": "stream",
     "text": [
      "Help on built-in function empty in module numpy:\n",
      "\n",
      "empty(...)\n",
      "    empty(shape, dtype=float, order='C', *, like=None)\n",
      "    \n",
      "    Return a new array of given shape and type, without initializing entries.\n",
      "    \n",
      "    Parameters\n",
      "    ----------\n",
      "    shape : int or tuple of int\n",
      "        Shape of the empty array, e.g., ``(2, 3)`` or ``2``.\n",
      "    dtype : data-type, optional\n",
      "        Desired output data-type for the array, e.g, `numpy.int8`. Default is\n",
      "        `numpy.float64`.\n",
      "    order : {'C', 'F'}, optional, default: 'C'\n",
      "        Whether to store multi-dimensional data in row-major\n",
      "        (C-style) or column-major (Fortran-style) order in\n",
      "        memory.\n",
      "    like : array_like\n",
      "        Reference object to allow the creation of arrays which are not\n",
      "        NumPy arrays. If an array-like passed in as ``like`` supports\n",
      "        the ``__array_function__`` protocol, the result will be defined\n",
      "        by it. In this case, it ensures the creation of an array object\n",
      "        compatible with that passed in via this argument.\n",
      "    \n",
      "        .. note::\n",
      "            The ``like`` keyword is an experimental feature pending on\n",
      "            acceptance of :ref:`NEP 35 <NEP35>`.\n",
      "    \n",
      "        .. versionadded:: 1.20.0\n",
      "    \n",
      "    Returns\n",
      "    -------\n",
      "    out : ndarray\n",
      "        Array of uninitialized (arbitrary) data of the given shape, dtype, and\n",
      "        order.  Object arrays will be initialized to None.\n",
      "    \n",
      "    See Also\n",
      "    --------\n",
      "    empty_like : Return an empty array with shape and type of input.\n",
      "    ones : Return a new array setting values to one.\n",
      "    zeros : Return a new array setting values to zero.\n",
      "    full : Return a new array of given shape filled with value.\n",
      "    \n",
      "    \n",
      "    Notes\n",
      "    -----\n",
      "    `empty`, unlike `zeros`, does not set the array values to zero,\n",
      "    and may therefore be marginally faster.  On the other hand, it requires\n",
      "    the user to manually set all the values in the array, and should be\n",
      "    used with caution.\n",
      "    \n",
      "    Examples\n",
      "    --------\n",
      "    >>> np.empty([2, 2])\n",
      "    array([[ -9.74499359e+001,   6.69583040e-309],\n",
      "           [  2.13182611e-314,   3.06959433e-309]])         #uninitialized\n",
      "    \n",
      "    >>> np.empty([2, 2], dtype=int)\n",
      "    array([[-1073741821, -1067949133],\n",
      "           [  496041986,    19249760]])                     #uninitialized\n",
      "\n",
      "None\n"
     ]
    }
   ],
   "source": [
    "print(help(np.empty))"
   ]
  },
  {
   "cell_type": "markdown",
   "id": "5462118e",
   "metadata": {},
   "source": [
    "# random()"
   ]
  },
  {
   "cell_type": "markdown",
   "id": "69f6df1e",
   "metadata": {},
   "source": [
    "# rand()"
   ]
  },
  {
   "cell_type": "code",
   "execution_count": 4,
   "id": "308e7f49",
   "metadata": {},
   "outputs": [
    {
     "name": "stdout",
     "output_type": "stream",
     "text": [
      "0.28233016975763947\n"
     ]
    }
   ],
   "source": [
    "a=np.random.rand()\n",
    "print(a)"
   ]
  },
  {
   "cell_type": "code",
   "execution_count": 7,
   "id": "7d6a0b49",
   "metadata": {},
   "outputs": [
    {
     "name": "stdout",
     "output_type": "stream",
     "text": [
      "[[0.26621992 0.45147425 0.44812907]\n",
      " [0.16767491 0.87614643 0.06492461]\n",
      " [0.34755666 0.39923523 0.19385354]\n",
      " [0.47332424 0.16838938 0.17064115]]\n"
     ]
    }
   ],
   "source": [
    "a=np.random.rand(4,3)\n",
    "print(a)"
   ]
  },
  {
   "cell_type": "code",
   "execution_count": 9,
   "id": "3cdb39e8",
   "metadata": {},
   "outputs": [
    {
     "name": "stdout",
     "output_type": "stream",
     "text": [
      "[[[0.67080016 0.41252012 0.87020667 0.1749133  0.13360204]\n",
      "  [0.08751889 0.13612126 0.38512153 0.94421541 0.36078866]\n",
      "  [0.4020606  0.25973622 0.76095458 0.30721314 0.6780791 ]\n",
      "  [0.87019732 0.60389826 0.07432162 0.97920638 0.52699398]]\n",
      "\n",
      " [[0.12900498 0.7617392  0.98074837 0.25318084 0.15871441]\n",
      "  [0.68495598 0.26316869 0.41946809 0.24968225 0.54209511]\n",
      "  [0.27910133 0.15839769 0.89563648 0.09899789 0.35334227]\n",
      "  [0.19941347 0.65646449 0.76551508 0.54362099 0.14373333]]\n",
      "\n",
      " [[0.62184145 0.71560642 0.35921251 0.69156477 0.46465763]\n",
      "  [0.70516581 0.87024094 0.1894219  0.14405421 0.29764851]\n",
      "  [0.46460188 0.3177027  0.99147974 0.77421317 0.90881247]\n",
      "  [0.32817012 0.95274392 0.19410195 0.73400021 0.62924854]]]\n"
     ]
    }
   ],
   "source": [
    "a=np.random.rand(3,4,5)\n",
    "print(a)"
   ]
  },
  {
   "cell_type": "markdown",
   "id": "20cb2a6c",
   "metadata": {},
   "source": [
    "# uniform()"
   ]
  },
  {
   "cell_type": "code",
   "execution_count": 12,
   "id": "d91d6394",
   "metadata": {},
   "outputs": [
    {
     "name": "stdout",
     "output_type": "stream",
     "text": [
      "0.7986499936501184\n"
     ]
    }
   ],
   "source": [
    "print(np.random.uniform())"
   ]
  },
  {
   "cell_type": "code",
   "execution_count": 14,
   "id": "775b2111",
   "metadata": {},
   "outputs": [
    {
     "name": "stdout",
     "output_type": "stream",
     "text": [
      "21.802003460587613\n"
     ]
    }
   ],
   "source": [
    "print(np.random.uniform(10,30))"
   ]
  },
  {
   "cell_type": "code",
   "execution_count": 15,
   "id": "769f1464",
   "metadata": {},
   "outputs": [
    {
     "name": "stdout",
     "output_type": "stream",
     "text": [
      "[16.50395628 25.04587105 27.4362807  22.43625164 10.63257753 13.8572695\n",
      " 23.9094331  10.70059228 16.26182122 29.72605895 29.87300207 12.18749975\n",
      " 11.30994401 16.85950855 14.6085363  16.58621479 12.41177117 14.18997775\n",
      " 16.47227749 22.97796043 11.9333765  18.2147902  13.16931596 12.79398535\n",
      " 19.00560363 23.8140475  13.01984929 28.0668505  28.14074065 12.7946595\n",
      " 24.37021808 12.94175687 22.55686254 14.52478089 14.31477256 17.41919092\n",
      " 11.14415661 18.13151001 21.71649983 11.09204338 15.79106165 11.61048063\n",
      " 12.87593509 27.25064807 26.77197085 20.50338061 26.75365012 25.77464132\n",
      " 22.78439157 28.03441334 26.93353599 21.86419518 22.55119419 18.89887285\n",
      " 28.62071311 22.08886406 23.82409946 29.87514741 11.91483014 23.41229865\n",
      " 23.38293697 25.47467845 28.82681273 13.8943015  25.42024154 29.47286447\n",
      " 27.49703378 26.61397064 27.74931351 19.95860898 16.4838417  18.91743477\n",
      " 16.05686778 27.06317985 24.40930813 12.9519796  21.18591537 23.41523518\n",
      " 23.06247707 15.85376844 11.76381499 12.27088684 29.56734072 20.45986448\n",
      " 16.29788631 10.91594698 10.15925242 16.28241542 20.54840474 17.09988306\n",
      " 23.64396651 12.10448169 27.09601621 21.54642494 26.32682544 25.30728254\n",
      " 21.16873572 10.84221955 11.82056677 28.51606047 17.22783307 24.6332293\n",
      " 11.52350567 12.57580046 21.9557611  26.92477545 12.1489626  15.51318624\n",
      " 24.90722973 20.90564538 12.63019542 13.36164245 14.38382996 17.58558623\n",
      " 29.05344092 23.36157639 18.57565351 25.93955478 25.41924813 13.68070015\n",
      " 12.91395036 15.63124451 10.10685047 14.65165931 28.05957064 27.64928504\n",
      " 11.79858214 21.01125052 27.98408967 10.99098936 23.54058132 26.19471695\n",
      " 27.82673152 12.02241384 21.78884904 15.0897744  17.35779261 28.93683756\n",
      " 21.177069   15.54762047 12.76562211 24.78571884 12.14453033 12.9019547\n",
      " 23.890904   18.51932235 26.33570946 18.53933093 17.6285587  23.79990142\n",
      " 11.10472083 27.72313157 13.47110331 11.2463533  29.19310443 27.07382638\n",
      " 10.7945043  13.75211197 16.90445755 27.07841945 22.91697694 29.67539819\n",
      " 19.2301514  20.81541505 26.46825076 21.22691657 29.01792479 24.70593214\n",
      " 14.52761836 19.29288356 10.92350897 15.92284814 10.92954516 29.40763186\n",
      " 19.35303265 20.56257136 10.14595307 26.14013412 11.31420022 23.35409453\n",
      " 10.86773502 22.62610803 26.75667284 20.37922151 14.23755978 20.62999174\n",
      " 18.52737535 10.3135744  17.2898069  21.68062164 13.87306642 16.34230704\n",
      " 20.03115541 22.83143008 16.75469389 12.9997316  27.22772398 11.16344536\n",
      " 17.98261841 28.24292714 11.91281751 24.57811257 19.91028804 20.08496079\n",
      " 19.68949454 13.85731339 26.16393526 16.38039229 14.5745684  12.89757652\n",
      " 20.02383474 18.28042567 24.38038989 25.75219481 26.17423808 23.18775311\n",
      " 15.55176046 20.18614373 19.56752245 19.81262128 23.269177   12.1569027\n",
      " 18.47741622 17.78172368 12.49796639 24.73343332 22.73212412 29.52457434\n",
      " 11.6360987  13.02854784 11.46310774 18.31795425 10.07441817 12.84510723\n",
      " 28.91939605 28.87219549 26.35253142 12.57469602 13.9665633  17.73118085\n",
      " 27.32642554 29.34950813 20.1463547  29.60337228 26.46490723 28.68800901\n",
      " 14.95827648 29.39399963 19.80220658 11.6490404  21.18169363 27.41611104\n",
      " 28.245035   14.21539004 19.71564632 28.65713811 25.79767624 11.71044103\n",
      " 21.5227409  14.3524765  18.95278775 23.39870837 19.94286097 14.38956865\n",
      " 14.0649318  13.83246164 27.61411324 26.32624965 21.50573096 12.686256\n",
      " 26.46034921 11.58203174 28.05050186 27.71572976 28.11125563 14.93938284\n",
      " 28.63416443 14.30837563 27.51906534 27.64003867 11.837197   11.49009804\n",
      " 29.3942361  18.74546275 11.66726216 29.41280689 15.01871982 29.88992749\n",
      " 22.60349178 16.19655836 16.79916638 13.68131378 28.33942426 10.27996788\n",
      " 18.33227298 13.94597537 23.6572065  28.84270728 28.11904654 20.86101246\n",
      " 13.64154834 16.92019099 27.18373408 21.83282836 23.01320204 21.06073456\n",
      " 20.06226215 22.78172214 18.17805548 24.02548073 24.25568318 18.41505919\n",
      " 22.44576123 14.39974401 22.92869102 16.07199876 17.4556806  11.9504335\n",
      " 21.53720186 16.75554985 13.69771254 18.08181222 23.95825807 19.89013227\n",
      " 17.31866099 27.47026566 27.55810666 11.58710639 17.82561931 28.15482717\n",
      " 20.41545695 10.09924354 23.41161663 19.01151364 23.19495049 16.16526475\n",
      " 22.86606715 26.74383789 22.72376338 23.66674708 23.381124   22.06447826\n",
      " 10.8098273  29.94980188 25.25760886 25.49440363 22.73231744 13.59519634\n",
      " 22.03106556 19.02226382 27.94134674 15.96758744 23.65064146 29.99686205\n",
      " 26.47085686 18.9933488  26.86117079 23.43748414 28.80238281 12.91028246\n",
      " 26.19575949 29.57627762 16.74852188 23.22728125 14.39605603 22.67025421\n",
      " 15.48336782 12.59835821 13.55102888 26.57940123 10.26471157 16.86550013\n",
      " 13.3637003  27.00992912 15.30959578 21.67190039 10.73195502 19.50577677\n",
      " 13.48150565 10.19667082 11.68262288 28.00266955 17.48573598 22.43780329\n",
      " 13.95725385 14.77616613 21.32973968 23.90001026 22.61524657 10.63809301\n",
      " 15.81079975 22.4310004  15.17295443 28.96027659 26.50335592 21.38758243\n",
      " 29.07011782 18.34474556 13.11656814 17.36241051 25.50987795 27.61217089\n",
      " 19.48393035 26.38760317 10.3971882  18.48211752 28.6481833  29.44902921\n",
      " 14.41980779 15.41972141 11.34498576 24.71464468 14.81255488 14.12069892\n",
      " 17.44955975 23.91933613 17.24946027 28.61052423 26.56604974 10.41513848\n",
      " 28.99691452 12.73270921 23.60067414 20.8517328  19.40947936 13.81603578\n",
      " 14.14972043 13.48249717 21.29282735 27.10464809 12.2103341  28.14881303\n",
      " 26.62583856 28.83576238 22.32138899 29.87328361 19.83844418 11.33309989\n",
      " 28.64198266 21.10272903 10.05904263 28.41187895 19.25552049 16.20707894\n",
      " 29.26265704 16.91350752 21.11047338 14.76309493 15.08622492 27.44491231\n",
      " 22.81245742 27.69450316 13.28785983 17.5780012  25.82470858 22.32246355\n",
      " 29.54434069 10.24795133 19.54101204 21.09364672 24.54853871 11.14445086\n",
      " 12.11105426 11.19374874 17.94209651 10.66953945 22.89717425 24.3937714\n",
      " 22.04905205 15.86803031 19.21945091 25.6974445  28.9794765  18.09486239\n",
      " 11.57801596 26.15753989 21.61951053 10.12833712 10.24249152 12.50407237\n",
      " 19.14708943 28.10145505 24.5318903  22.36833717 15.49466694 15.49727844\n",
      " 18.09387649 15.22868186 23.82743629 12.29490361 19.08249801 12.156329\n",
      " 26.26196444 18.77901007 25.24749097 16.80431569 12.59799824 12.72408602\n",
      " 12.27871236 10.00682281 11.13284881 22.64398293 25.61552365 16.99148643\n",
      " 24.95259381 24.51280138 12.06614887 12.20641226 14.60094664 25.4425442\n",
      " 13.75122276 15.92366734 25.87252385 14.17393891 20.71465169 15.28865583\n",
      " 26.49509102 16.80176114 10.35016417 19.37293879 15.05341436 14.22954788\n",
      " 29.27806029 26.90220455 22.50189116 10.16470847 18.71582555 26.20261137\n",
      " 15.43046295 23.20356582 20.69989443 22.61510778 22.3784991  25.46328664\n",
      " 18.6732026  29.52237415 21.16803408 15.8966572  23.75667864 26.63969611\n",
      " 10.24141938 17.86157375 27.68245347 16.46813617 22.00353481 24.18112327\n",
      " 28.51307918 26.75515504 24.22936889 28.48060166 24.91851292 18.58588611\n",
      " 26.98481107 29.92866627 21.63198596 10.66436361 18.86035571 24.0980539\n",
      " 13.72299816 29.74222262 29.56160757 20.81707201 10.52978065 28.84235677\n",
      " 27.92177792 13.89902051 15.60830948 21.9759966  12.38024938 26.1676317\n",
      " 27.55177219 18.05798044 28.87142368 28.32133453 27.28927891 10.16834538\n",
      " 17.98009372 12.32147913 27.16681667 28.07751374 20.35056786 17.36583141\n",
      " 12.59911582 21.15195619 16.90316431 24.49514291 27.16011673 20.15265402\n",
      " 16.82624255 16.92761386 17.90199676 13.99232005 29.68391821 17.43295756\n",
      " 27.2389081  26.90928247 20.59342604 14.83875258 20.87490322 14.47200574\n",
      " 17.41143214 15.72830172 20.93209526 24.53594716 16.19182015 27.49471942\n",
      " 19.61947524 25.92699889 15.50585305 15.47299859 14.4532766  10.85762198\n",
      " 20.66280015 24.21222866 27.97404448 13.32730729 26.84578576 18.98781352\n",
      " 20.69812197 23.50170441 26.10751721 20.63350934 14.96010756 10.18380168\n",
      " 12.32073555 15.73108485 18.00252222 10.67088006 15.64806083 28.00081429\n",
      " 21.55732786 25.08479443 10.87364102 28.94458971 12.18318478 25.68921597\n",
      " 24.79885174 16.0919135  26.11009644 16.81791752 21.79153264 29.85316693\n",
      " 12.48409222 18.68232765 12.54762337 27.55790173 16.24000848 27.70162314\n",
      " 21.46548214 14.58459941 29.06409051 23.85425631 15.48273362 13.25885192\n",
      " 14.38707964 11.7734344  11.83275951 22.19491935 27.81054686 24.53766789\n",
      " 22.89164763 20.50781766 29.25326863 11.23468921 19.44620725 21.23531468\n",
      " 17.64922358 21.16745205 12.80224067 11.56951495 24.55701188 17.96730828\n",
      " 27.0226376  22.28041853 13.81852939 14.53749665 26.82055128 18.6402016\n",
      " 20.91000031 27.72177599 25.07929236 10.87271691 16.81389396 14.62578489\n",
      " 17.67651388 10.21219767 25.55192918 21.85691143 15.11735768 28.13597336\n",
      " 11.93400719 11.81194183 18.55724764 21.19192431 25.48405523 27.47749965\n",
      " 12.51265661 11.69726034 11.11160826 26.3520568  17.64034562 10.09804988\n",
      " 28.71863065 15.12515732 19.32619736 19.11256347 25.20816669 22.04450814\n",
      " 25.39932805 23.3985748  28.02196125 28.88461781 29.25618058 10.25860432\n",
      " 10.90740367 26.43475619 12.67972479 23.24763796 24.98027791 29.28171031\n",
      " 17.90838983 17.01705295 18.13198352 26.37089246 11.46730488 11.20185471\n",
      " 21.83853008 18.91522955 23.35224098 19.31065251 16.69388316 27.43849814\n",
      " 18.66602932 24.09980925 22.87063896 28.21242595 21.87116482 23.38041655\n",
      " 29.62290182 20.93647319 27.53224672 14.9910989  15.68052485 14.11901682\n",
      " 25.23963782 29.39462698 23.05966297 16.53935365 15.52509364 17.83326692\n",
      " 19.56931152 15.00755733 27.53490057 27.26631746 10.77255092 22.67494223\n",
      " 28.68427639 16.54783951 24.18464378 26.00306491 16.14392902 16.97565461\n",
      " 25.35763491 10.38883061 14.11806547 18.76712603 15.70976388 11.66378264\n",
      " 23.973963   17.58438639 12.22113247 22.6760007  19.83862581 29.23066271\n",
      " 12.24296127 10.3319471  10.14412613 12.36461923 13.60370304 27.92581148\n",
      " 27.83009731 28.54370807 17.27008312 27.42452786 15.58034319 14.20215295\n",
      " 14.3699897  24.85532559 15.61022392 11.46471633 20.9965306  14.01899428\n",
      " 27.2465858  14.78502831 27.14988784 25.92516909 28.64636541 26.54218445\n",
      " 14.01753877 16.21590551 17.44561137 28.93512413 11.03638242 17.31122367\n",
      " 14.03100314 10.31708964 19.72301903 18.72632591 23.28487579 21.00083516\n",
      " 12.86323414 18.06658435 27.48357102 27.9909693  15.18160127 10.86910449\n",
      " 10.03935517 18.73740121 18.86151792 22.66067274 11.60683085 12.18607348\n",
      " 13.51643644 17.7430853  10.74836201 23.52031826 15.45268581 11.15604428\n",
      " 19.02924022 23.59511955 10.75258519 16.52380883 19.56962329 28.44169192\n",
      " 25.28895542 18.39835744 22.74871202 20.56515825 10.26975553 14.83203995\n",
      " 11.08153787 21.80884289 15.70606007 24.72934644 23.32962888 11.9781566\n",
      " 14.49550533 15.8893408  11.53823217 14.31281737 19.6644672  17.25151093\n",
      " 25.91273107 19.63750967 24.28600572 29.47635212 11.31547921 20.32908093\n",
      " 22.60844518 25.15485228 14.02791683 19.36300805 12.58518738 23.21294884\n",
      " 25.45846075 24.20406506 16.11362693 18.03932666 13.40853604 22.08707551\n",
      " 13.95539649 17.23384882 21.80542235 26.22862606 29.79503704 16.23448993\n",
      " 12.67829645 14.38844475 15.23627821 27.40969407 20.71902503 18.4786718\n",
      " 11.00417391 22.00170182 16.57776259 15.17877994 13.69517377 19.13782364\n",
      " 16.56203916 20.05049415 29.48533361 27.05425211 21.16811396 25.94317525\n",
      " 16.41729038 25.68915448 24.45113381 23.61459163 24.81399312 16.22839539\n",
      " 28.14523388 27.88922114 23.09408634 10.68119788 28.0125239  11.40916284\n",
      " 22.22348405 18.25764266 29.71577234 19.07181544 23.83679835 26.60859084\n",
      " 21.26681575 24.58051291 13.36974056 26.63614061 15.71466864 13.80311895\n",
      " 20.59796702 26.98224284 29.12288653 15.1964818  15.69930609 18.37183517\n",
      " 13.00585729 16.81966728 13.86092988 27.80231713 28.10859899 25.56700606\n",
      " 19.10533563 29.03077216 15.65624717 22.0548493  29.11472936 26.91759012\n",
      " 14.45046322 17.8370214  11.80522176 29.87445825 19.57662873 10.76987652\n",
      " 15.21152877 14.10684385 21.74676345 25.94955995 16.48972347 15.07808416\n",
      " 19.6278546  13.55810639 18.66721732 24.87460186 10.34554057 17.91148988\n",
      " 19.79703456 13.91974137 22.82071923 18.89359435 27.18513314 16.99139993\n",
      " 22.01371137 17.9591773  13.06558246 16.95025965 22.51655908 26.09816193\n",
      " 27.9382622  14.01606167 22.42217671 23.28325686 25.47863315 23.82618621\n",
      " 23.18856149 10.05450322 29.79543559 12.34243657 15.82174704 16.09332037\n",
      " 28.34746341 15.95119438 27.29353409 28.45641553 29.14093049 14.17565662\n",
      " 29.85449059 19.55299002 11.00004295 28.16371935 18.63890932 25.49638609\n",
      " 13.49556682 11.81878602 10.832614   10.95612688 10.23903143 15.90789958\n",
      " 16.75296186 24.46710605 25.24564506 26.37553437]\n"
     ]
    }
   ],
   "source": [
    "print(np.random.uniform(15,25,size=1000))"
   ]
  },
  {
   "cell_type": "code",
   "execution_count": 16,
   "id": "609303ff",
   "metadata": {},
   "outputs": [
    {
     "name": "stdout",
     "output_type": "stream",
     "text": [
      "[[20.60209714 17.59184543 19.23899069]\n",
      " [22.07459737 15.81614588 22.7132404 ]]\n"
     ]
    }
   ],
   "source": [
    "print(np.random.uniform(15,25,size=(2,3)))"
   ]
  },
  {
   "cell_type": "code",
   "execution_count": 17,
   "id": "db1d9405",
   "metadata": {},
   "outputs": [
    {
     "name": "stdout",
     "output_type": "stream",
     "text": [
      "[[[15.03306013 16.24966843 19.41845657]\n",
      "  [16.53114964 22.80816921 21.99527348]\n",
      "  [19.47379006 19.35954938 15.0185244 ]]\n",
      "\n",
      " [[21.3085981  18.98942078 24.50633174]\n",
      "  [19.65288041 23.90241738 15.71728975]\n",
      "  [20.0011587  24.77947306 15.79101362]]]\n"
     ]
    }
   ],
   "source": [
    "print(np.random.uniform(15,25,size=(2,3,3)))"
   ]
  },
  {
   "cell_type": "markdown",
   "id": "c11eacb8",
   "metadata": {},
   "source": [
    "# randn()"
   ]
  },
  {
   "cell_type": "code",
   "execution_count": 20,
   "id": "c7872c0d",
   "metadata": {},
   "outputs": [
    {
     "name": "stdout",
     "output_type": "stream",
     "text": [
      "-0.23053696209807625\n"
     ]
    }
   ],
   "source": [
    "a=np.random.randn()\n",
    "print(a)"
   ]
  },
  {
   "cell_type": "code",
   "execution_count": 21,
   "id": "a2b83154",
   "metadata": {},
   "outputs": [
    {
     "name": "stdout",
     "output_type": "stream",
     "text": [
      "[ 0.20645411  2.40408528 -1.84599184  0.05621084  1.81668691 -1.16489496\n",
      "  0.34921166  1.27083728  0.57153898 -0.92976717]\n"
     ]
    }
   ],
   "source": [
    "a=np.random.randn(10)\n",
    "print(a)"
   ]
  },
  {
   "cell_type": "code",
   "execution_count": 22,
   "id": "3d8f21b0",
   "metadata": {},
   "outputs": [
    {
     "name": "stdout",
     "output_type": "stream",
     "text": [
      "[[ 0.58385107 -0.50868689]\n",
      " [-0.66909576 -1.06577931]\n",
      " [ 0.23408481 -1.1436608 ]\n",
      " [-2.58451527 -0.82269241]]\n"
     ]
    }
   ],
   "source": [
    "a=np.random.randn(4,2)\n",
    "print(a)"
   ]
  },
  {
   "cell_type": "code",
   "execution_count": 23,
   "id": "c605e6f7",
   "metadata": {},
   "outputs": [
    {
     "name": "stdout",
     "output_type": "stream",
     "text": [
      "[[[ 1.17108107e+00  5.22994973e-01]\n",
      "  [ 1.69845859e+00  2.47221719e-01]\n",
      "  [-5.14735293e-01 -1.13866889e+00]\n",
      "  [ 1.36394893e-01  8.65323528e-01]]\n",
      "\n",
      " [[-1.00750280e+00  8.10150878e-01]\n",
      "  [ 3.47741946e-02 -2.44580850e-01]\n",
      "  [-3.51795487e-01  1.21592698e+00]\n",
      "  [ 5.72758624e-01 -4.63349666e-01]]\n",
      "\n",
      " [[-4.77581641e-01  4.22495067e-01]\n",
      "  [ 2.13481164e+00 -1.22018274e+00]\n",
      "  [-1.63308364e+00  3.44178712e-01]\n",
      "  [ 7.46597732e-04 -1.70058717e-01]]]\n"
     ]
    }
   ],
   "source": [
    "a=np.random.randn(3,4,2)\n",
    "print(a)"
   ]
  },
  {
   "cell_type": "markdown",
   "id": "5f0c8f11",
   "metadata": {},
   "source": [
    "# normal()"
   ]
  },
  {
   "cell_type": "code",
   "execution_count": 28,
   "id": "b096b9e4",
   "metadata": {},
   "outputs": [
    {
     "name": "stdout",
     "output_type": "stream",
     "text": [
      "9.977883937129603\n"
     ]
    }
   ],
   "source": [
    "a=np.random.normal(10)\n",
    "print(a)"
   ]
  },
  {
   "cell_type": "code",
   "execution_count": 31,
   "id": "c5cf9d4a",
   "metadata": {},
   "outputs": [
    {
     "name": "stdout",
     "output_type": "stream",
     "text": [
      "10.252354909440184\n"
     ]
    }
   ],
   "source": [
    "a=np.random.normal(10,4)\n",
    "print(a)"
   ]
  },
  {
   "cell_type": "code",
   "execution_count": 34,
   "id": "cbd615e3",
   "metadata": {},
   "outputs": [
    {
     "name": "stdout",
     "output_type": "stream",
     "text": [
      "[ 5.78053249  1.59125906  8.44799859 ...  5.87624392 10.03006464\n",
      "  9.95686137]\n"
     ]
    }
   ],
   "source": [
    "a=np.random.normal(10,4,size=10000)\n",
    "print(a)"
   ]
  },
  {
   "cell_type": "markdown",
   "id": "91731ebd",
   "metadata": {},
   "source": [
    "# shuffle()"
   ]
  },
  {
   "cell_type": "code",
   "execution_count": 35,
   "id": "599ca75f",
   "metadata": {},
   "outputs": [
    {
     "name": "stdout",
     "output_type": "stream",
     "text": [
      "[ 3 14 13  5  4 11 12 10  8  0  6  1  2  7  9]\n"
     ]
    }
   ],
   "source": [
    "a=np.arange(15)\n",
    "np.random.shuffle(a)\n",
    "print(a)"
   ]
  },
  {
   "cell_type": "code",
   "execution_count": 36,
   "id": "a163e3d0",
   "metadata": {},
   "outputs": [
    {
     "ename": "AttributeError",
     "evalue": "module 'numpy' has no attribute 'randint'",
     "output_type": "error",
     "traceback": [
      "\u001b[1;31m---------------------------------------------------------------------------\u001b[0m",
      "\u001b[1;31mAttributeError\u001b[0m                            Traceback (most recent call last)",
      "\u001b[1;32m<ipython-input-36-8f3f4fbe74f9>\u001b[0m in \u001b[0;36m<module>\u001b[1;34m\u001b[0m\n\u001b[1;32m----> 1\u001b[1;33m \u001b[0ma\u001b[0m\u001b[1;33m=\u001b[0m\u001b[0mnp\u001b[0m\u001b[1;33m.\u001b[0m\u001b[0mrandint\u001b[0m\u001b[1;33m(\u001b[0m\u001b[1;36m1\u001b[0m\u001b[1;33m,\u001b[0m\u001b[1;36m50\u001b[0m\u001b[1;33m,\u001b[0m\u001b[0msize\u001b[0m\u001b[1;33m=\u001b[0m\u001b[1;33m(\u001b[0m\u001b[1;36m5\u001b[0m\u001b[1;33m,\u001b[0m\u001b[1;36m5\u001b[0m\u001b[1;33m)\u001b[0m\u001b[1;33m)\u001b[0m\u001b[1;33m\u001b[0m\u001b[1;33m\u001b[0m\u001b[0m\n\u001b[0m\u001b[0;32m      2\u001b[0m \u001b[0mprint\u001b[0m\u001b[1;33m(\u001b[0m\u001b[0ma\u001b[0m\u001b[1;33m)\u001b[0m\u001b[1;33m\u001b[0m\u001b[1;33m\u001b[0m\u001b[0m\n\u001b[0;32m      3\u001b[0m \u001b[0mnp\u001b[0m\u001b[1;33m.\u001b[0m\u001b[0mrandom\u001b[0m\u001b[1;33m.\u001b[0m\u001b[0mshuffle\u001b[0m\u001b[1;33m(\u001b[0m\u001b[0ma\u001b[0m\u001b[1;33m)\u001b[0m\u001b[1;33m\u001b[0m\u001b[1;33m\u001b[0m\u001b[0m\n\u001b[0;32m      4\u001b[0m \u001b[0mprint\u001b[0m\u001b[1;33m(\u001b[0m\u001b[0ma\u001b[0m\u001b[1;33m)\u001b[0m\u001b[1;33m\u001b[0m\u001b[1;33m\u001b[0m\u001b[0m\n",
      "\u001b[1;32m~\\anaconda3\\lib\\site-packages\\numpy\\__init__.py\u001b[0m in \u001b[0;36m__getattr__\u001b[1;34m(attr)\u001b[0m\n\u001b[0;32m    301\u001b[0m                 \u001b[1;32mreturn\u001b[0m \u001b[0mTester\u001b[0m\u001b[1;33m\u001b[0m\u001b[1;33m\u001b[0m\u001b[0m\n\u001b[0;32m    302\u001b[0m \u001b[1;33m\u001b[0m\u001b[0m\n\u001b[1;32m--> 303\u001b[1;33m             raise AttributeError(\"module {!r} has no attribute \"\n\u001b[0m\u001b[0;32m    304\u001b[0m                                  \"{!r}\".format(__name__, attr))\n\u001b[0;32m    305\u001b[0m \u001b[1;33m\u001b[0m\u001b[0m\n",
      "\u001b[1;31mAttributeError\u001b[0m: module 'numpy' has no attribute 'randint'"
     ]
    }
   ],
   "source": [
    "a=np.randint(1,50,size=(5,5))\n",
    "print(a)\n",
    "np.random.shuffle(a)\n",
    "print(a)"
   ]
  },
  {
   "cell_type": "code",
   "execution_count": null,
   "id": "2a0cff59",
   "metadata": {},
   "outputs": [],
   "source": []
  }
 ],
 "metadata": {
  "kernelspec": {
   "display_name": "Python 3",
   "language": "python",
   "name": "python3"
  },
  "language_info": {
   "codemirror_mode": {
    "name": "ipython",
    "version": 3
   },
   "file_extension": ".py",
   "mimetype": "text/x-python",
   "name": "python",
   "nbconvert_exporter": "python",
   "pygments_lexer": "ipython3",
   "version": "3.8.8"
  }
 },
 "nbformat": 4,
 "nbformat_minor": 5
}
